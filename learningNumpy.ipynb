{
 "cells": [
  {
   "cell_type": "markdown",
   "metadata": {},
   "source": [
    "We are goin to learn numpy"
   ]
  },
  {
   "cell_type": "markdown",
   "metadata": {},
   "source": [
    "Learning numpy creating different types of array"
   ]
  },
  {
   "cell_type": "code",
   "execution_count": null,
   "metadata": {},
   "outputs": [],
   "source": [
    "import numpy as np\n",
    "from numpy import random\n",
    "\n",
    "array1=np.array([[1, 2],\n",
    "              [3, 4]])\n",
    "array2=np.array([[4, 3],\n",
    "              [2, 1]], dtype='uint8')\n",
    "array1,array2\n",
    "#print type\n",
    "print(\"Array is of type: \", type(array1))\n",
    "# Print dimension (axes)\n",
    "print(\"No. of dimensions: \", array1.ndim)\n",
    "# Print shape\n",
    "print(\"Shape of array: \", array2.shape)\n",
    "# Printing total number of elements\n",
    "print(\"Size of array: \", array2.size)\n",
    " # Printing type of elements in array\n",
    "print(\"Array stores elements of type: \", array2.dtype)\n",
    "#create array of zeros 3x4 shape\n",
    "zeroArray = np.zeros((3, 4))\n",
    "print(zeroArray)\n",
    "oneArray = np.ones((3, 4), dtype='int8')\n",
    "print(oneArray)\n",
    "constArray = np.full((3, 3), 6, dtype = 'float32')\n",
    "print(constArray)\n",
    "list1=[2,4,5,7,8,9]\n",
    "changedArray= np.array(list1).astype('float32')\n",
    "print(changedArray)\n",
    "chanArray=changedArray.reshape([2,3])\n",
    "print(chanArray)\n",
    "randomArray = random.randint(100, size=(3, 5))\n",
    "print(randomArray)"
   ]
  },
  {
   "cell_type": "markdown",
   "metadata": {},
   "source": [
    "Operations with arrays and Data types"
   ]
  },
  {
   "cell_type": "code",
   "execution_count": null,
   "metadata": {},
   "outputs": [],
   "source": [
    "array3= array1+array2\n",
    "array3\n",
    "array3=array1-array2\n",
    "print(array3)\n",
    "array3+1\n",
    "arr1 = np.array([[4, 7], [2, 6]], \n",
    "                 dtype = np.float64)\n",
    "arr2 = np.array([[3, 6], [2, 8]], \n",
    "                 dtype = np.float64) \n",
    "\n",
    "# Addition of two Arrays\n",
    "Sum = np.add(arr1, arr2)\n",
    "print(\"Addition of Two Arrays: \")\n",
    "print(Sum)\n",
    " \n",
    "# Addition of all Array elements\n",
    "# using predefined sum method\n",
    "Sum1 = np.sum(arr1)\n",
    "print(\"\\nAddition of Array elements: \")\n",
    "print(Sum1)\n",
    " \n",
    "# Square root of Array\n",
    "Sqrt = np.sqrt(arr1)\n",
    "print(\"\\nSquare root of Array1 elements: \")\n",
    "print(Sqrt)\n",
    " \n",
    "# Transpose of Array (The transpose of a matrix is simply a flipped version of the original matrix.)\n",
    "# using In-built function 'T'\n",
    "print(arr1)\n",
    "Trans_arr = arr1.T\n",
    "print(\"\\nTranspose of Array: \")\n",
    "print(Trans_arr)\n",
    "# using flatten method\n",
    "print(\"flatten array\",arr1.flatten())\n",
    " "
   ]
  },
  {
   "cell_type": "markdown",
   "metadata": {},
   "source": [
    "indexing and slicing\n"
   ]
  },
  {
   "cell_type": "code",
   "execution_count": null,
   "metadata": {},
   "outputs": [],
   "source": [
    "# np.linspace allows you to define how many values you get including the specified min and max value. It infers the stepsize:\n",
    "array= np.linspace(0,1,11)\n",
    "print(array)\n",
    "# np.arange allows you to define the stepsize and infers the number of steps(the number of values you get).\n",
    "array= np.arange(0,1,.1)\n",
    "print(array)\n",
    "# Arrange elements from 0 to 39\n",
    "arr = np.arange(40)\n",
    "print(\"\\n Array is:\\n \",arr)\n",
    " # a[start:stop:step]\n",
    "print(\"\\n a[8:17:1] = \",arr[8:17:1])\n",
    " # The : operator means all elements till the end.\n",
    "print(\"\\n a[10:] = \",arr[10:])\n",
    "# You may wish to square the multiples of 40\n",
    "a = np.array([10, 40, 80, 50, 100])\n",
    "print(a[a%40==0]**2)\n",
    "# You may wish to select those elements whose\n",
    "# sum of row is a multiple of 10.\n",
    "b = np.array([[5, 5],[4, 5],[16, 4]])\n",
    "sumrow = b.sum(-1)\n",
    "print(b[sumrow%10==0])"
   ]
  }
 ],
 "metadata": {
  "interpreter": {
   "hash": "5c54bb7328d61800967710ed4b035f752a4521b61084a71b5dddadb2717c01c9"
  },
  "kernelspec": {
   "display_name": "Python 3.9.7 64-bit ('base': conda)",
   "language": "python",
   "name": "python3"
  },
  "language_info": {
   "codemirror_mode": {
    "name": "ipython",
    "version": 3
   },
   "file_extension": ".py",
   "mimetype": "text/x-python",
   "name": "python",
   "nbconvert_exporter": "python",
   "pygments_lexer": "ipython3",
   "version": "3.9.7"
  },
  "orig_nbformat": 4
 },
 "nbformat": 4,
 "nbformat_minor": 2
}

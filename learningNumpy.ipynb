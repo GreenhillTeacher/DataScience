{
 "cells": [
  {
   "cell_type": "markdown",
   "metadata": {},
   "source": [
    "We are goin to learn numpy"
   ]
  },
  {
   "cell_type": "markdown",
   "metadata": {},
   "source": [
    "Learning numpy creating different types of array"
   ]
  },
  {
   "cell_type": "code",
   "execution_count": null,
   "metadata": {},
   "outputs": [],
   "source": [
    "import numpy as np\n",
    "from numpy import random\n",
    "\n",
    "array1=np.array([[1, 2],\n",
    "              [3, 4]])\n",
    "array2=np.array([[4, 3],\n",
    "              [2, 1]], dtype='uint8')\n",
    "array1,array2\n",
    "#print type\n",
    "print(\"Array is of type: \", type(array1))\n",
    "# Print dimension (axes)\n",
    "print(\"No. of dimensions: \", array1.ndim)\n",
    "# Print shape\n",
    "print(\"Shape of array: \", array2.shape)\n",
    "# Printing total number of elements\n",
    "print(\"Size of array: \", array2.size)\n",
    " # Printing type of elements in array\n",
    "print(\"Array stores elements of type: \", array2.dtype)\n",
    "#create array of zeros 3x4 shape\n",
    "zeroArray = np.zeros((3, 4))\n",
    "print(zeroArray)\n",
    "oneArray = np.ones((3, 4), dtype='int8')\n",
    "print(oneArray)\n",
    "constArray = np.full((3, 3), 6, dtype = 'float32')\n",
    "print(constArray)\n",
    "list1=[2,4,5,7,8,9]\n",
    "changedArray= np.array(list1).astype('float32')\n",
    "print(changedArray)\n",
    "chanArray=changedArray.reshape([2,3])\n",
    "print(chanArray)\n",
    "randomArray = random.randint(100, size=(3, 5))\n",
    "print(randomArray)"
   ]
  },
  {
   "cell_type": "markdown",
   "metadata": {},
   "source": [
    "Operations with arrays and Data types"
   ]
  },
  {
   "cell_type": "code",
   "execution_count": 37,
   "metadata": {},
   "outputs": [
    {
     "name": "stdout",
     "output_type": "stream",
     "text": [
      "[[-3 -1]\n",
      " [ 1  3]]\n",
      "Addition of Two Arrays: \n",
      "[[ 7. 13.]\n",
      " [ 4. 14.]]\n",
      "\n",
      "Addition of Array elements: \n",
      "19.0\n",
      "\n",
      "Square root of Array1 elements: \n",
      "[[2.         2.64575131]\n",
      " [1.41421356 2.44948974]]\n",
      "[[4. 7.]\n",
      " [2. 6.]]\n",
      "\n",
      "Transpose of Array: \n",
      "[[4. 2.]\n",
      " [7. 6.]]\n",
      "flatten array [4. 7. 2. 6.]\n"
     ]
    }
   ],
   "source": [
    "array3= array1+array2\n",
    "array3\n",
    "array3=array1-array2\n",
    "print(array3)\n",
    "array3+1\n",
    "arr1 = np.array([[4, 7], [2, 6]], \n",
    "                 dtype = np.float64)\n",
    "arr2 = np.array([[3, 6], [2, 8]], \n",
    "                 dtype = np.float64) \n",
    "\n",
    "# Addition of two Arrays\n",
    "Sum = np.add(arr1, arr2)\n",
    "print(\"Addition of Two Arrays: \")\n",
    "print(Sum)\n",
    " \n",
    "# Addition of all Array elements\n",
    "# using predefined sum method\n",
    "Sum1 = np.sum(arr1)\n",
    "print(\"\\nAddition of Array elements: \")\n",
    "print(Sum1)\n",
    " \n",
    "# Square root of Array\n",
    "Sqrt = np.sqrt(arr1)\n",
    "print(\"\\nSquare root of Array1 elements: \")\n",
    "print(Sqrt)\n",
    " \n",
    "# Transpose of Array (The transpose of a matrix is simply a flipped version of the original matrix.)\n",
    "# using In-built function 'T'\n",
    "print(arr1)\n",
    "Trans_arr = arr1.T\n",
    "print(\"\\nTranspose of Array: \")\n",
    "print(Trans_arr)\n",
    "# using flatten method\n",
    "print(\"flatten array\",arr1.flatten())\n",
    " "
   ]
  },
  {
   "cell_type": "markdown",
   "metadata": {},
   "source": []
  },
  {
   "cell_type": "code",
   "execution_count": null,
   "metadata": {},
   "outputs": [],
   "source": []
  }
 ],
 "metadata": {
  "interpreter": {
   "hash": "5c54bb7328d61800967710ed4b035f752a4521b61084a71b5dddadb2717c01c9"
  },
  "kernelspec": {
   "display_name": "Python 3.9.7 64-bit ('base': conda)",
   "language": "python",
   "name": "python3"
  },
  "language_info": {
   "codemirror_mode": {
    "name": "ipython",
    "version": 3
   },
   "file_extension": ".py",
   "mimetype": "text/x-python",
   "name": "python",
   "nbconvert_exporter": "python",
   "pygments_lexer": "ipython3",
   "version": "3.9.7"
  },
  "orig_nbformat": 4
 },
 "nbformat": 4,
 "nbformat_minor": 2
}
